{
  "nbformat": 4,
  "nbformat_minor": 0,
  "metadata": {
    "colab": {
      "provenance": [],
      "include_colab_link": true
    },
    "kernelspec": {
      "name": "python3",
      "display_name": "Python 3"
    },
    "language_info": {
      "name": "python"
    }
  },
  "cells": [
    {
      "cell_type": "markdown",
      "metadata": {
        "id": "view-in-github",
        "colab_type": "text"
      },
      "source": [
        "<a href=\"https://colab.research.google.com/github/Aislingmcadam1/Assignment-1/blob/main/Copy_of_Assignment1_Aislingmcadam.ipynb\" target=\"_parent\"><img src=\"https://colab.research.google.com/assets/colab-badge.svg\" alt=\"Open In Colab\"/></a>"
      ]
    },
    {
      "cell_type": "markdown",
      "source": [
        "I choose women in stem dataset as i myself am involved in this sector as i am in a more male dominated course. I wanted to gain insight into the comparsion of male and females in particular majors in a vivid visualistion. To see if there was any dramatic differences between men and womens majors depending on their gender.\n",
        "\n",
        "\n",
        "\n",
        "\n"
      ],
      "metadata": {
        "id": "3jkbPvQyvLHl"
      }
    },
    {
      "cell_type": "code",
      "source": [
        "import pandas as pd\n",
        "import matplotlib.pyplot as plt"
      ],
      "metadata": {
        "id": "Zq81xHXXfwGg"
      },
      "execution_count": null,
      "outputs": []
    },
    {
      "cell_type": "markdown",
      "source": [
        "\n",
        "\n",
        "Print the relevant structural information of your dataset.\n",
        "\n",
        "\n"
      ],
      "metadata": {
        "id": "v4AfYHzAudy2"
      }
    },
    {
      "cell_type": "code",
      "source": [
        "df = pd.read_csv(\"https://raw.githubusercontent.com/Aislingmcadam1/datasets/main/women-stem.csv\")\n",
        "df"
      ],
      "metadata": {
        "id": "_Gp-MFrSfxx7"
      },
      "execution_count": null,
      "outputs": []
    },
    {
      "cell_type": "code",
      "source": [
        "df.dtypes"
      ],
      "metadata": {
        "id": "Xdzr1KkSf8Xm"
      },
      "execution_count": null,
      "outputs": []
    },
    {
      "cell_type": "markdown",
      "source": [
        "## Part 2 - Line Plot\n",
        "\n"
      ],
      "metadata": {
        "id": "b1f455v-vzXd"
      }
    },
    {
      "cell_type": "code",
      "source": [
        "df.groupby('Major_category')[['Women', \"Men\"]].sum().plot.line(title = \"The numercial difference of the amount of women and men majors in STEM \",figsize=(10,5),\n",
        "      marker='o',\n",
        "      xlabel = \"STEM major category\",\n",
        "      ylabel = \"Number of people in each major\",\n",
        "      color = ['pink','blue'])"
      ],
      "metadata": {
        "id": "qOLXVOCFgDXF"
      },
      "execution_count": null,
      "outputs": []
    },
    {
      "cell_type": "markdown",
      "source": [
        "This line plot that I simulated shows the difference of the stem majors that men and women particpate in. As you can see from the data visualtion Men have a stronger interest in the field of computers and mathetics and there is a drastic drop in the number of women in stem enaged in computer and mathematics. And also with the field of engineering it is mostly a male donimanted major. Whereas with Health major there is a dramatic difference within the amount of women and men in this field. It is clear that more women should be more enaged with these majors and maybe the tendency of how male donimanted it is could cause women to neglect this major , this is the same with health as a major for men they might consider it as a feminine major due to the amount of women within the major.\n"
      ],
      "metadata": {
        "id": "rWGWMI10wXJ5"
      }
    },
    {
      "cell_type": "markdown",
      "source": [
        "## Part 3 - Bar Plot\n",
        "\n"
      ],
      "metadata": {
        "id": "5W-xV9480RyN"
      }
    },
    {
      "cell_type": "code",
      "source": [
        "df.head()"
      ],
      "metadata": {
        "id": "Dwdt5R6dgH6U"
      },
      "execution_count": null,
      "outputs": []
    },
    {
      "cell_type": "code",
      "source": [
        "df.groupby('Major_category')['Women'].sum().sort_values(ascending = False).plot.bar(title='Most common sector that women are involved in STEM',\n",
        "                                 ylabel = \"Number of Women\",\n",
        "        xlabel = \"STEM Major\")"
      ],
      "metadata": {
        "id": "eBEFdorggIwh"
      },
      "execution_count": null,
      "outputs": []
    },
    {
      "cell_type": "markdown",
      "source": [
        "I choose to do this bar plot as i wanted to present a data visualisation just on women in stem. To view the insight of what major women are more incline to undergo. It is very vivid in the graph that women tend to be more involved i health however the lowest enagement is within physical sciences. This took me by surpise that there is a similar number of majors within computers and mathematics and physcial sciences. I thought there would be more women in stem within the physical sciences major\n"
      ],
      "metadata": {
        "id": "FiD6m2Vb0fr1"
      }
    }
  ]
}